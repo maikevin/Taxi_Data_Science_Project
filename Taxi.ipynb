{
 "cells": [
  {
   "cell_type": "markdown",
   "metadata": {},
   "source": [
    "#### Possible Hypothesis:\n",
    "#### - Travel Time\n",
    "#### - Seasonal Effects\n",
    "#### - Nights\n",
    "#### - Days\n",
    "#### - Long Ride vs Short Ride Occurrences\n",
    "#### - Popularity between Green, Yellow, and For-Hire\n",
    "#### - 3D Map / Heatmap\n",
    "#### - Payment and effects on types of trips\n",
    "\n",
    "### How"
   ]
  },
  {
   "cell_type": "code",
   "execution_count": 31,
   "metadata": {},
   "outputs": [],
   "source": [
    "#Loading Data Tool Packages\n",
    "import pandas as pd\n",
    "import numpy as np\n",
    "\n",
    "#Packages for plotting\n",
    "import seaborn as sns\n",
    "import matplotlib\n",
    "import matplotlib.pyplot as plt\n",
    "\n",
    "#statistical packages\n",
    "import scipy.stats\n",
    "\n",
    "#Packages for datetime conversions\n",
    "import time\n",
    "from datetime import datetime as dt\n",
    "from datetime import timedelta as td\n",
    "\n",
    "#Find longitude and latitude\n",
    "from geopy.geocoders import Nominatim"
   ]
  },
  {
   "cell_type": "code",
   "execution_count": 34,
   "metadata": {},
   "outputs": [
    {
     "name": "stdout",
     "output_type": "stream",
     "text": [
      "Location address: Newark Airport\n"
     ]
    }
   ],
   "source": [
    "#Implementing Possible Latitude and Longitude into CSV\n",
    "geolocator = Nominatim(user_agent=\"geoapiExercises\")\n",
    "ladd1 = \"Newark Airport\"\n",
    "print(\"Location address:\",ladd1)\n",
    "location = geolocator.geocode(ladd1)"
   ]
  },
  {
   "cell_type": "code",
   "execution_count": 2,
   "metadata": {},
   "outputs": [
    {
     "name": "stderr",
     "output_type": "stream",
     "text": [
      "C:\\Users\\chappie\\Anaconda3\\lib\\site-packages\\IPython\\core\\interactiveshell.py:3063: DtypeWarning: Columns (3) have mixed types.Specify dtype option on import or set low_memory=False.\n",
      "  interactivity=interactivity, compiler=compiler, result=result)\n"
     ]
    }
   ],
   "source": [
    "fhv_data = pd.read_csv('fhv_tripdata_2019-12.csv')\n",
    "fhv_data = pd.DataFrame(fhv_data)\n",
    "#fhvhv_data = pd.read_csv('fhvhv_tripdata_2019-12.csv')\n",
    "green_data = pd.read_csv('green_tripdata_2019-12.csv')"
   ]
  },
  {
   "cell_type": "code",
   "execution_count": 3,
   "metadata": {},
   "outputs": [
    {
     "name": "stderr",
     "output_type": "stream",
     "text": [
      "C:\\Users\\chappie\\Anaconda3\\lib\\site-packages\\IPython\\core\\interactiveshell.py:3063: DtypeWarning: Columns (6) have mixed types.Specify dtype option on import or set low_memory=False.\n",
      "  interactivity=interactivity, compiler=compiler, result=result)\n"
     ]
    },
    {
     "data": {
      "text/html": [
       "<div>\n",
       "<style scoped>\n",
       "    .dataframe tbody tr th:only-of-type {\n",
       "        vertical-align: middle;\n",
       "    }\n",
       "\n",
       "    .dataframe tbody tr th {\n",
       "        vertical-align: top;\n",
       "    }\n",
       "\n",
       "    .dataframe thead th {\n",
       "        text-align: right;\n",
       "    }\n",
       "</style>\n",
       "<table border=\"1\" class=\"dataframe\">\n",
       "  <thead>\n",
       "    <tr style=\"text-align: right;\">\n",
       "      <th></th>\n",
       "      <th>VendorID</th>\n",
       "      <th>tpep_pickup_datetime</th>\n",
       "      <th>tpep_dropoff_datetime</th>\n",
       "      <th>passenger_count</th>\n",
       "      <th>trip_distance</th>\n",
       "      <th>RatecodeID</th>\n",
       "      <th>store_and_fwd_flag</th>\n",
       "      <th>PULocationID</th>\n",
       "      <th>DOLocationID</th>\n",
       "      <th>payment_type</th>\n",
       "      <th>fare_amount</th>\n",
       "      <th>extra</th>\n",
       "      <th>mta_tax</th>\n",
       "      <th>tip_amount</th>\n",
       "      <th>tolls_amount</th>\n",
       "      <th>improvement_surcharge</th>\n",
       "      <th>total_amount</th>\n",
       "      <th>congestion_surcharge</th>\n",
       "    </tr>\n",
       "  </thead>\n",
       "  <tbody>\n",
       "    <tr>\n",
       "      <th>0</th>\n",
       "      <td>1.0</td>\n",
       "      <td>2019-12-01 00:26:58</td>\n",
       "      <td>2019-12-01 00:41:45</td>\n",
       "      <td>1.0</td>\n",
       "      <td>4.2</td>\n",
       "      <td>1.0</td>\n",
       "      <td>N</td>\n",
       "      <td>142</td>\n",
       "      <td>116</td>\n",
       "      <td>2.0</td>\n",
       "      <td>14.5</td>\n",
       "      <td>3.0</td>\n",
       "      <td>0.5</td>\n",
       "      <td>0.0</td>\n",
       "      <td>0.0</td>\n",
       "      <td>0.3</td>\n",
       "      <td>18.3</td>\n",
       "      <td>2.5</td>\n",
       "    </tr>\n",
       "    <tr>\n",
       "      <th>1</th>\n",
       "      <td>1.0</td>\n",
       "      <td>2019-12-01 00:12:08</td>\n",
       "      <td>2019-12-01 00:12:14</td>\n",
       "      <td>1.0</td>\n",
       "      <td>0.0</td>\n",
       "      <td>1.0</td>\n",
       "      <td>N</td>\n",
       "      <td>145</td>\n",
       "      <td>145</td>\n",
       "      <td>2.0</td>\n",
       "      <td>2.5</td>\n",
       "      <td>0.5</td>\n",
       "      <td>0.5</td>\n",
       "      <td>0.0</td>\n",
       "      <td>0.0</td>\n",
       "      <td>0.3</td>\n",
       "      <td>3.8</td>\n",
       "      <td>0.0</td>\n",
       "    </tr>\n",
       "    <tr>\n",
       "      <th>2</th>\n",
       "      <td>1.0</td>\n",
       "      <td>2019-12-01 00:25:53</td>\n",
       "      <td>2019-12-01 00:26:04</td>\n",
       "      <td>1.0</td>\n",
       "      <td>0.0</td>\n",
       "      <td>1.0</td>\n",
       "      <td>N</td>\n",
       "      <td>145</td>\n",
       "      <td>145</td>\n",
       "      <td>2.0</td>\n",
       "      <td>2.5</td>\n",
       "      <td>0.5</td>\n",
       "      <td>0.5</td>\n",
       "      <td>0.0</td>\n",
       "      <td>0.0</td>\n",
       "      <td>0.3</td>\n",
       "      <td>3.8</td>\n",
       "      <td>0.0</td>\n",
       "    </tr>\n",
       "    <tr>\n",
       "      <th>3</th>\n",
       "      <td>1.0</td>\n",
       "      <td>2019-12-01 00:12:03</td>\n",
       "      <td>2019-12-01 00:33:19</td>\n",
       "      <td>2.0</td>\n",
       "      <td>9.4</td>\n",
       "      <td>1.0</td>\n",
       "      <td>N</td>\n",
       "      <td>138</td>\n",
       "      <td>25</td>\n",
       "      <td>1.0</td>\n",
       "      <td>28.5</td>\n",
       "      <td>0.5</td>\n",
       "      <td>0.5</td>\n",
       "      <td>10.0</td>\n",
       "      <td>0.0</td>\n",
       "      <td>0.3</td>\n",
       "      <td>39.8</td>\n",
       "      <td>0.0</td>\n",
       "    </tr>\n",
       "    <tr>\n",
       "      <th>4</th>\n",
       "      <td>1.0</td>\n",
       "      <td>2019-12-01 00:05:27</td>\n",
       "      <td>2019-12-01 00:16:32</td>\n",
       "      <td>2.0</td>\n",
       "      <td>1.6</td>\n",
       "      <td>1.0</td>\n",
       "      <td>N</td>\n",
       "      <td>161</td>\n",
       "      <td>237</td>\n",
       "      <td>2.0</td>\n",
       "      <td>9.0</td>\n",
       "      <td>3.0</td>\n",
       "      <td>0.5</td>\n",
       "      <td>0.0</td>\n",
       "      <td>0.0</td>\n",
       "      <td>0.3</td>\n",
       "      <td>12.8</td>\n",
       "      <td>2.5</td>\n",
       "    </tr>\n",
       "  </tbody>\n",
       "</table>\n",
       "</div>"
      ],
      "text/plain": [
       "   VendorID tpep_pickup_datetime tpep_dropoff_datetime  passenger_count  \\\n",
       "0       1.0  2019-12-01 00:26:58   2019-12-01 00:41:45              1.0   \n",
       "1       1.0  2019-12-01 00:12:08   2019-12-01 00:12:14              1.0   \n",
       "2       1.0  2019-12-01 00:25:53   2019-12-01 00:26:04              1.0   \n",
       "3       1.0  2019-12-01 00:12:03   2019-12-01 00:33:19              2.0   \n",
       "4       1.0  2019-12-01 00:05:27   2019-12-01 00:16:32              2.0   \n",
       "\n",
       "   trip_distance  RatecodeID store_and_fwd_flag  PULocationID  DOLocationID  \\\n",
       "0            4.2         1.0                  N           142           116   \n",
       "1            0.0         1.0                  N           145           145   \n",
       "2            0.0         1.0                  N           145           145   \n",
       "3            9.4         1.0                  N           138            25   \n",
       "4            1.6         1.0                  N           161           237   \n",
       "\n",
       "   payment_type  fare_amount  extra  mta_tax  tip_amount  tolls_amount  \\\n",
       "0           2.0         14.5    3.0      0.5         0.0           0.0   \n",
       "1           2.0          2.5    0.5      0.5         0.0           0.0   \n",
       "2           2.0          2.5    0.5      0.5         0.0           0.0   \n",
       "3           1.0         28.5    0.5      0.5        10.0           0.0   \n",
       "4           2.0          9.0    3.0      0.5         0.0           0.0   \n",
       "\n",
       "   improvement_surcharge  total_amount  congestion_surcharge  \n",
       "0                    0.3          18.3                   2.5  \n",
       "1                    0.3           3.8                   0.0  \n",
       "2                    0.3           3.8                   0.0  \n",
       "3                    0.3          39.8                   0.0  \n",
       "4                    0.3          12.8                   2.5  "
      ]
     },
     "execution_count": 3,
     "metadata": {},
     "output_type": "execute_result"
    }
   ],
   "source": [
    "yellow_data = pd.read_csv('yellow_tripdata_2019-12.csv')\n",
    "yellow_data.head(5)"
   ]
  },
  {
   "cell_type": "code",
   "execution_count": 4,
   "metadata": {},
   "outputs": [
    {
     "name": "stdout",
     "output_type": "stream",
     "text": [
      "                  Borough                     Zone service_zone\n",
      "LocationID                                                     \n",
      "1                     EWR           Newark Airport          EWR\n",
      "2                  Queens              Jamaica Bay    Boro Zone\n",
      "3                   Bronx  Allerton/Pelham Gardens    Boro Zone\n",
      "4               Manhattan            Alphabet City  Yellow Zone\n",
      "5           Staten Island            Arden Heights    Boro Zone\n"
     ]
    }
   ],
   "source": [
    "taxi_zones = pd.read_csv('taxi_zones.csv', index_col='LocationID')\n",
    "taxi_zones_id = pd.read_csv('taxi_zones_id.csv', index_col='LocationID')\n",
    "taxi_zones = taxi_zones.drop(['OBJECTID','X','Y','Shape_Leng','Shape_Area'], axis = 1)\n",
    "print(taxi_zones_id.head(5))\n",
    "#Extracting Zones into Dictionary\n",
    "LocationIDtoZoneArray = taxi_zones_id.Zone\n",
    "LocationIDtoZone = {}\n",
    "LocationIDtoBorough = {}\n",
    "def mappingColumnDict(column, dictionary):\n",
    "    length = 0\n",
    "    for time in column:\n",
    "        length +=1\n",
    "        if time not in dictionary:\n",
    "            dictionary[time] = length\n",
    "mappingColumnDict(taxi_zones_id.Zone, LocationIDtoZone)\n",
    "mappingColumnDict(taxi_zones_id.Borough,LocationIDtoBorough)"
   ]
  },
  {
   "cell_type": "code",
   "execution_count": 5,
   "metadata": {},
   "outputs": [],
   "source": [
    "taxi_zones_id = pd.read_csv('taxi_zones_id.csv')\n",
    "\n",
    "\n",
    "#Extracting Zones into Dictionary\n",
    "LocationIDtoZoneArray = taxi_zones_id.Zone\n",
    "LocationIDtoZone = {}\n",
    "LocationIDtoBorough = {}\n",
    "def mappingColumnDict(column, dictionary):\n",
    "    length = 0\n",
    "    for time in column:\n",
    "        length +=1\n",
    "        if time not in dictionary:\n",
    "            dictionary[time] = length\n",
    "mappingColumnDict(taxi_zones_id.Zone, LocationIDtoZone)\n",
    "mappingColumnDict(taxi_zones_id.Borough,LocationIDtoBorough)\n",
    "\n",
    "LocationIDtoZone = dict([(value, key) for key, value in LocationIDtoZone.items()]) \n",
    "LocationIDtoBorough = dict([(value, key) for key, value in LocationIDtoBorough.items()]) "
   ]
  },
  {
   "cell_type": "code",
   "execution_count": 6,
   "metadata": {},
   "outputs": [
    {
     "data": {
      "text/html": [
       "<div>\n",
       "<style scoped>\n",
       "    .dataframe tbody tr th:only-of-type {\n",
       "        vertical-align: middle;\n",
       "    }\n",
       "\n",
       "    .dataframe tbody tr th {\n",
       "        vertical-align: top;\n",
       "    }\n",
       "\n",
       "    .dataframe thead th {\n",
       "        text-align: right;\n",
       "    }\n",
       "</style>\n",
       "<table border=\"1\" class=\"dataframe\">\n",
       "  <thead>\n",
       "    <tr style=\"text-align: right;\">\n",
       "      <th></th>\n",
       "      <th>dispatching_base_num</th>\n",
       "      <th>pickup_datetime</th>\n",
       "      <th>dropoff_datetime</th>\n",
       "      <th>PULocationID</th>\n",
       "      <th>DOLocationID</th>\n",
       "      <th>SR_Flag</th>\n",
       "      <th>Zone</th>\n",
       "    </tr>\n",
       "  </thead>\n",
       "  <tbody>\n",
       "    <tr>\n",
       "      <th>0</th>\n",
       "      <td>B00009</td>\n",
       "      <td>2019-12-01 00:47:00</td>\n",
       "      <td>2019-12-01 00:52:00</td>\n",
       "      <td>264</td>\n",
       "      <td>264</td>\n",
       "      <td>NaN</td>\n",
       "      <td>NV</td>\n",
       "    </tr>\n",
       "    <tr>\n",
       "      <th>1</th>\n",
       "      <td>B00009</td>\n",
       "      <td>2019-12-01 00:27:00</td>\n",
       "      <td>2019-12-01 00:44:00</td>\n",
       "      <td>264</td>\n",
       "      <td>264</td>\n",
       "      <td>NaN</td>\n",
       "      <td>NV</td>\n",
       "    </tr>\n",
       "    <tr>\n",
       "      <th>2</th>\n",
       "      <td>B00014</td>\n",
       "      <td>2019-12-01 00:42:18</td>\n",
       "      <td>2019-12-01 01:31:31</td>\n",
       "      <td>264</td>\n",
       "      <td>264</td>\n",
       "      <td>NaN</td>\n",
       "      <td>NV</td>\n",
       "    </tr>\n",
       "    <tr>\n",
       "      <th>3</th>\n",
       "      <td>B00014</td>\n",
       "      <td>2019-12-01 00:43:08</td>\n",
       "      <td>2019-12-01 01:07:38</td>\n",
       "      <td>264</td>\n",
       "      <td>264</td>\n",
       "      <td>NaN</td>\n",
       "      <td>NV</td>\n",
       "    </tr>\n",
       "    <tr>\n",
       "      <th>4</th>\n",
       "      <td>B00021</td>\n",
       "      <td>2019-12-01 00:52:19</td>\n",
       "      <td>2019-12-01 00:59:39</td>\n",
       "      <td>56</td>\n",
       "      <td>56</td>\n",
       "      <td>NaN</td>\n",
       "      <td>Corona</td>\n",
       "    </tr>\n",
       "  </tbody>\n",
       "</table>\n",
       "</div>"
      ],
      "text/plain": [
       "  dispatching_base_num      pickup_datetime     dropoff_datetime  \\\n",
       "0               B00009  2019-12-01 00:47:00  2019-12-01 00:52:00   \n",
       "1               B00009  2019-12-01 00:27:00  2019-12-01 00:44:00   \n",
       "2               B00014  2019-12-01 00:42:18  2019-12-01 01:31:31   \n",
       "3               B00014  2019-12-01 00:43:08  2019-12-01 01:07:38   \n",
       "4               B00021  2019-12-01 00:52:19  2019-12-01 00:59:39   \n",
       "\n",
       "   PULocationID  DOLocationID  SR_Flag    Zone  \n",
       "0           264           264      NaN      NV  \n",
       "1           264           264      NaN      NV  \n",
       "2           264           264      NaN      NV  \n",
       "3           264           264      NaN      NV  \n",
       "4            56            56      NaN  Corona  "
      ]
     },
     "execution_count": 6,
     "metadata": {},
     "output_type": "execute_result"
    }
   ],
   "source": [
    "fhv_data['Zone'] = fhv_data.PULocationID.map(LocationIDtoZone)\n",
    "#fhv_data['Borough'] = fhv_data.PULocationID.map(LocationIDtoBorough)\n",
    "fhv_data.head(5)"
   ]
  },
  {
   "cell_type": "markdown",
   "metadata": {},
   "source": [
    "### For-Hire Vehicle (\"FHV\") trip records in December 2019"
   ]
  },
  {
   "cell_type": "code",
   "execution_count": 7,
   "metadata": {},
   "outputs": [
    {
     "name": "stdout",
     "output_type": "stream",
     "text": [
      "1759399\n"
     ]
    },
    {
     "data": {
      "text/html": [
       "<div>\n",
       "<style scoped>\n",
       "    .dataframe tbody tr th:only-of-type {\n",
       "        vertical-align: middle;\n",
       "    }\n",
       "\n",
       "    .dataframe tbody tr th {\n",
       "        vertical-align: top;\n",
       "    }\n",
       "\n",
       "    .dataframe thead th {\n",
       "        text-align: right;\n",
       "    }\n",
       "</style>\n",
       "<table border=\"1\" class=\"dataframe\">\n",
       "  <thead>\n",
       "    <tr style=\"text-align: right;\">\n",
       "      <th></th>\n",
       "      <th>dispatching_base_num</th>\n",
       "      <th>pickup_datetime</th>\n",
       "      <th>dropoff_datetime</th>\n",
       "      <th>PULocationID</th>\n",
       "      <th>DOLocationID</th>\n",
       "      <th>Zone</th>\n",
       "    </tr>\n",
       "  </thead>\n",
       "  <tbody>\n",
       "    <tr>\n",
       "      <th>0</th>\n",
       "      <td>B00009</td>\n",
       "      <td>2019-12-01 00:47:00</td>\n",
       "      <td>2019-12-01 00:52:00</td>\n",
       "      <td>264</td>\n",
       "      <td>264</td>\n",
       "      <td>NV</td>\n",
       "    </tr>\n",
       "    <tr>\n",
       "      <th>1</th>\n",
       "      <td>B00009</td>\n",
       "      <td>2019-12-01 00:27:00</td>\n",
       "      <td>2019-12-01 00:44:00</td>\n",
       "      <td>264</td>\n",
       "      <td>264</td>\n",
       "      <td>NV</td>\n",
       "    </tr>\n",
       "    <tr>\n",
       "      <th>2</th>\n",
       "      <td>B00014</td>\n",
       "      <td>2019-12-01 00:42:18</td>\n",
       "      <td>2019-12-01 01:31:31</td>\n",
       "      <td>264</td>\n",
       "      <td>264</td>\n",
       "      <td>NV</td>\n",
       "    </tr>\n",
       "    <tr>\n",
       "      <th>3</th>\n",
       "      <td>B00014</td>\n",
       "      <td>2019-12-01 00:43:08</td>\n",
       "      <td>2019-12-01 01:07:38</td>\n",
       "      <td>264</td>\n",
       "      <td>264</td>\n",
       "      <td>NV</td>\n",
       "    </tr>\n",
       "    <tr>\n",
       "      <th>4</th>\n",
       "      <td>B00021</td>\n",
       "      <td>2019-12-01 00:52:19</td>\n",
       "      <td>2019-12-01 00:59:39</td>\n",
       "      <td>56</td>\n",
       "      <td>56</td>\n",
       "      <td>Corona</td>\n",
       "    </tr>\n",
       "  </tbody>\n",
       "</table>\n",
       "</div>"
      ],
      "text/plain": [
       "  dispatching_base_num      pickup_datetime     dropoff_datetime  \\\n",
       "0               B00009  2019-12-01 00:47:00  2019-12-01 00:52:00   \n",
       "1               B00009  2019-12-01 00:27:00  2019-12-01 00:44:00   \n",
       "2               B00014  2019-12-01 00:42:18  2019-12-01 01:31:31   \n",
       "3               B00014  2019-12-01 00:43:08  2019-12-01 01:07:38   \n",
       "4               B00021  2019-12-01 00:52:19  2019-12-01 00:59:39   \n",
       "\n",
       "   PULocationID  DOLocationID    Zone  \n",
       "0           264           264      NV  \n",
       "1           264           264      NV  \n",
       "2           264           264      NV  \n",
       "3           264           264      NV  \n",
       "4            56            56  Corona  "
      ]
     },
     "execution_count": 7,
     "metadata": {},
     "output_type": "execute_result"
    }
   ],
   "source": [
    "print(fhv_data.SR_Flag.isna().sum())\n",
    "fhv_data = fhv_data.drop(['SR_Flag'], axis = 1)\n",
    "fhv_data.head(5)"
   ]
  },
  {
   "cell_type": "code",
   "execution_count": 8,
   "metadata": {},
   "outputs": [
    {
     "data": {
      "text/html": [
       "<div>\n",
       "<style scoped>\n",
       "    .dataframe tbody tr th:only-of-type {\n",
       "        vertical-align: middle;\n",
       "    }\n",
       "\n",
       "    .dataframe tbody tr th {\n",
       "        vertical-align: top;\n",
       "    }\n",
       "\n",
       "    .dataframe thead th {\n",
       "        text-align: right;\n",
       "    }\n",
       "</style>\n",
       "<table border=\"1\" class=\"dataframe\">\n",
       "  <thead>\n",
       "    <tr style=\"text-align: right;\">\n",
       "      <th></th>\n",
       "      <th>dispatching_base_num</th>\n",
       "      <th>pickup_datetime</th>\n",
       "      <th>dropoff_datetime</th>\n",
       "      <th>PULocationID</th>\n",
       "      <th>DOLocationID</th>\n",
       "      <th>Zone</th>\n",
       "      <th>time_of_ride</th>\n",
       "      <th>pickup_day</th>\n",
       "      <th>pickup_hour</th>\n",
       "      <th>dropoff_day</th>\n",
       "      <th>dropoff_hour</th>\n",
       "      <th>time_of_ride_minutes</th>\n",
       "    </tr>\n",
       "  </thead>\n",
       "  <tbody>\n",
       "    <tr>\n",
       "      <th>0</th>\n",
       "      <td>B00009</td>\n",
       "      <td>2019-12-01 00:47:00</td>\n",
       "      <td>2019-12-01 00:52:00</td>\n",
       "      <td>264</td>\n",
       "      <td>264</td>\n",
       "      <td>NV</td>\n",
       "      <td>00:05:00</td>\n",
       "      <td>1</td>\n",
       "      <td>0</td>\n",
       "      <td>1</td>\n",
       "      <td>0</td>\n",
       "      <td>5.000000</td>\n",
       "    </tr>\n",
       "    <tr>\n",
       "      <th>1</th>\n",
       "      <td>B00009</td>\n",
       "      <td>2019-12-01 00:27:00</td>\n",
       "      <td>2019-12-01 00:44:00</td>\n",
       "      <td>264</td>\n",
       "      <td>264</td>\n",
       "      <td>NV</td>\n",
       "      <td>00:17:00</td>\n",
       "      <td>1</td>\n",
       "      <td>0</td>\n",
       "      <td>1</td>\n",
       "      <td>0</td>\n",
       "      <td>17.000000</td>\n",
       "    </tr>\n",
       "    <tr>\n",
       "      <th>2</th>\n",
       "      <td>B00014</td>\n",
       "      <td>2019-12-01 00:42:18</td>\n",
       "      <td>2019-12-01 01:31:31</td>\n",
       "      <td>264</td>\n",
       "      <td>264</td>\n",
       "      <td>NV</td>\n",
       "      <td>00:49:13</td>\n",
       "      <td>1</td>\n",
       "      <td>0</td>\n",
       "      <td>1</td>\n",
       "      <td>1</td>\n",
       "      <td>49.216667</td>\n",
       "    </tr>\n",
       "    <tr>\n",
       "      <th>3</th>\n",
       "      <td>B00014</td>\n",
       "      <td>2019-12-01 00:43:08</td>\n",
       "      <td>2019-12-01 01:07:38</td>\n",
       "      <td>264</td>\n",
       "      <td>264</td>\n",
       "      <td>NV</td>\n",
       "      <td>00:24:30</td>\n",
       "      <td>1</td>\n",
       "      <td>0</td>\n",
       "      <td>1</td>\n",
       "      <td>1</td>\n",
       "      <td>24.500000</td>\n",
       "    </tr>\n",
       "    <tr>\n",
       "      <th>4</th>\n",
       "      <td>B00021</td>\n",
       "      <td>2019-12-01 00:52:19</td>\n",
       "      <td>2019-12-01 00:59:39</td>\n",
       "      <td>56</td>\n",
       "      <td>56</td>\n",
       "      <td>Corona</td>\n",
       "      <td>00:07:20</td>\n",
       "      <td>1</td>\n",
       "      <td>0</td>\n",
       "      <td>1</td>\n",
       "      <td>0</td>\n",
       "      <td>7.333333</td>\n",
       "    </tr>\n",
       "  </tbody>\n",
       "</table>\n",
       "</div>"
      ],
      "text/plain": [
       "  dispatching_base_num     pickup_datetime    dropoff_datetime  PULocationID  \\\n",
       "0               B00009 2019-12-01 00:47:00 2019-12-01 00:52:00           264   \n",
       "1               B00009 2019-12-01 00:27:00 2019-12-01 00:44:00           264   \n",
       "2               B00014 2019-12-01 00:42:18 2019-12-01 01:31:31           264   \n",
       "3               B00014 2019-12-01 00:43:08 2019-12-01 01:07:38           264   \n",
       "4               B00021 2019-12-01 00:52:19 2019-12-01 00:59:39            56   \n",
       "\n",
       "   DOLocationID    Zone time_of_ride  pickup_day  pickup_hour  dropoff_day  \\\n",
       "0           264      NV     00:05:00           1            0            1   \n",
       "1           264      NV     00:17:00           1            0            1   \n",
       "2           264      NV     00:49:13           1            0            1   \n",
       "3           264      NV     00:24:30           1            0            1   \n",
       "4            56  Corona     00:07:20           1            0            1   \n",
       "\n",
       "   dropoff_hour  time_of_ride_minutes  \n",
       "0             0              5.000000  \n",
       "1             0             17.000000  \n",
       "2             1             49.216667  \n",
       "3             1             24.500000  \n",
       "4             0              7.333333  "
      ]
     },
     "execution_count": 8,
     "metadata": {},
     "output_type": "execute_result"
    }
   ],
   "source": [
    "fhv_data.pickup_datetime = pd.to_datetime(fhv_data.pickup_datetime)\n",
    "fhv_data.dropoff_datetime = pd.to_datetime(fhv_data.dropoff_datetime)\n",
    "fhv_data['time_of_ride'] = fhv_data.dropoff_datetime - fhv_data.pickup_datetime\n",
    "#fhv_data['pickup_month'] = fhv_data.pickup_datetime.dt.month\n",
    "fhv_data['pickup_day'] = fhv_data.pickup_datetime.dt.day\n",
    "fhv_data['pickup_hour'] = fhv_data.pickup_datetime.dt.hour\n",
    "fhv_data['dropoff_day'] = fhv_data.dropoff_datetime.dt.day\n",
    "fhv_data['dropoff_hour'] = fhv_data.dropoff_datetime.dt.hour\n",
    "time_of_ride_seconds = []\n",
    "for i in fhv_data['time_of_ride']:\n",
    "    time_of_ride_seconds.append(td.total_seconds(i)/60)\n",
    "fhv_data['time_of_ride_minutes'] = time_of_ride_seconds\n",
    "fhv_data.head(5)"
   ]
  },
  {
   "cell_type": "code",
   "execution_count": 25,
   "metadata": {},
   "outputs": [
    {
     "name": "stdout",
     "output_type": "stream",
     "text": [
      "{'NV': 1385513, 'Corona': 7141, 'Elmhurst': 6207, 'Flushing Meadows-Corona Park': 321, 'North Corona': 7058, 'Elmhurst/Maspeth': 1915, 'Times Sq/Theatre District': 4464, 'East Elmhurst': 3953, 'Hunts Point': 771, 'LaGuardia Airport': 5484, 'JFK Airport': 6565, 'Woodlawn/Wakefield': 2604, 'Auburndale': 695, 'Rego Park': 1363, 'Woodside': 2553, 'Clinton West': 814, 'Crown Heights North': 2961, 'Saint George/New Brighton': 9316, 'Stapleton': 3814, 'West Brighton': 1644, 'South Beach/Dongan Hills': 965, 'Jackson Heights': 10710, 'Rossville/Woodrow': 658, 'Charleston/Tottenville': 2338, 'East Flatbush/Remsen Village': 1858, 'Midtown North': 2492, 'Midtown Center': 4963, 'Canarsie': 1991, 'Garment District': 1452, nan: 9247, 'Astoria': 9121, 'Brownsville': 1577, 'Ridgewood': 5869, 'Bensonhurst East': 1507, 'Sunset Park East': 3621, 'South Ozone Park': 2290, 'Queensbridge/Ravenswood': 2801, 'Long Island City/Queens Plaza': 1623, 'Manhattan Beach': 755, 'Maspeth': 1970, 'Sunnyside': 1910, 'Flushing': 8906, 'Queensboro Hill': 1473, 'East Flushing': 1102, 'Murray Hill-Queens': 2140, 'Mariners Harbor': 2189, 'Port Richmond': 1811, 'Glendale': 2401, 'Bushwick North': 3162, 'Long Island City/Hunters Point': 1012, 'Newark Airport': 1918, 'Chinatown': 958, 'Baisley Park': 1008, 'Springfield Gardens North': 487, 'Borough Park': 1480, 'Prospect Heights': 262, 'Steinway': 5484, 'Old Astoria': 5750, 'Sutton Place/Turtle Bay North': 2134, 'Yorkville West': 803, 'Marble Hill': 144, 'Pelham Bay Park': 81, 'Bayside': 1539, 'Whitestone': 2413, 'Financial District South': 1770, 'Stuyvesant Heights': 1154, 'Grymes Hill/Clifton': 653, 'Bensonhurst West': 2093, 'Ozone Park': 270, 'Brighton Beach': 2290, 'Bushwick South': 1760, 'UN/Turtle Bay South': 1342, 'Little Italy/NoLiTa': 1051, 'South Jamaica': 939, 'Upper East Side South': 2343, 'Clinton Hill': 569, 'Prospect-Lefferts Gardens': 2072, 'Roosevelt Island': 443, 'College Point': 939, 'Clinton East': 2937, 'East Village': 976, 'Greenwich Village North': 541, 'Battery Park City': 2500, 'Co-Op City': 1198, 'City Island': 64, 'Midtown East': 5266, 'Allerton/Pelham Gardens': 723, 'Erasmus': 524, 'Oakwood': 413, 'Upper East Side North': 1816, 'Flatbush/Ditmas Park': 2015, 'Bath Beach': 877, 'Marine Park/Mill Basin': 893, 'Dyker Heights': 698, 'Westerleigh': 1221, 'Cypress Hills': 773, 'Morningside Heights': 550, 'East Flatbush/Farragut': 1241, 'Flatlands': 1316, 'Arden Heights': 777, 'Forest Hills': 2288, 'East Harlem North': 1930, \"Eltingville/Annadale/Prince's Bay\": 1223, 'Williamsbridge/Olinville': 1561, 'Two Bridges/Seward Park': 621, 'Melrose South': 1870, 'Financial District North': 1252, 'West Chelsea/Hudson Yards': 1026, 'Bay Terrace/Fort Totten': 2166, 'East Concourse/Concourse Village': 2671, 'Gramercy': 1016, 'Union Sq': 1855, 'Upper West Side South': 1049, 'Cobble Hill': 141, 'Bedford': 866, 'Upper West Side North': 970, 'Williamsburg (North Side)': 228, 'Park Slope': 1096, 'East Williamsburg': 438, 'Midwood': 1764, 'Penn Station/Madison Sq West': 1443, 'East Chelsea': 1517, 'Lenox Hill West': 1315, 'TriBeCa/Civic Center': 1794, 'Lincoln Square West': 509, 'Central Park': 851, 'Prospect Park': 65, 'Bronxdale': 862, 'SoHo': 240, 'West Concourse': 987, 'Van Cortlandt Village': 794, 'Soundview/Castle Hill': 1831, 'Pelham Parkway': 1593, 'Hammels/Arverne': 1149, 'Madison': 1860, 'Parkchester': 603, 'Eastchester': 692, 'Far Rockaway': 3261, 'Cambria Heights': 190, 'Yorkville East': 412, 'Windsor Terrace': 275, 'Heartland Village/Todt Hill': 847, 'Great Kills': 799, 'Bloomfield/Emerson Hill': 1167, 'Murray Hill': 2538, 'World Trade Center': 1316, 'East Harlem South': 2331, 'Jamaica': 1427, 'Laurelton': 308, 'Starrett City': 938, 'Rosedale': 409, 'Crown Heights South': 746, 'Saint Albans': 787, 'Sheepshead Bay': 2301, 'Stuy Town/Peter Cooper Village': 111, 'Oakland Gardens': 453, 'Douglaston': 246, 'Downtown Brooklyn/MetroTech': 619, 'Alphabet City': 228, 'Ocean Parkway South': 331, 'Bay Ridge': 1357, 'Midtown South': 788, 'Middle Village': 1117, 'Lower East Side': 660, 'Greenwich Village South': 591, 'Brooklyn Heights': 867, 'Jamaica Estates': 615, 'Kips Bay': 1975, 'East New York': 2431, 'Coney Island': 1935, 'Kensington': 900, 'Woodhaven': 748, 'Claremont/Bathgate': 1417, 'Gowanus': 275, 'East New York/Pennsylvania Avenue': 930, 'Kingsbridge Heights': 855, 'University Heights/Morris Heights': 1505, 'Hamilton Heights': 573, 'West Village': 412, 'Meatpacking/West Village West': 654, 'Lincoln Square East': 957, 'Kew Gardens Hills': 677, 'Hillcrest/Pomonok': 1694, 'East Tremont': 2561, 'Inwood': 382, 'Central Harlem North': 1437, 'Mott Haven/Port Morris': 1978, 'Manhattan Valley': 456, 'Flatiron': 740, 'Kew Gardens': 828, 'Morrisania/Melrose': 1283, 'Westchester Village/Unionport': 704, 'Rockaway Park': 323, 'Richmond Hill': 1022, 'Greenpoint': 307, 'Howard Beach': 293, 'Spuyten Duyvil/Kingsbridge': 502, 'Ocean Hill': 1065, 'Fort Greene': 1021, 'Riverdale/North Riverdale/Fieldston': 396, 'Washington Heights North': 595, 'Sunset Park West': 977, 'Homecrest': 1833, 'Longwood': 827, 'South Williamsburg': 152, 'Mount Hope': 3184, 'Briarwood/Jamaica Hills': 511, 'Washington Heights South': 1603, 'Fresh Meadows': 357, 'Norwood': 1805, 'Gravesend': 843, 'Bedford Park': 1295, 'DUMBO/Vinegar Hill': 122, 'Central Harlem': 949, 'Belmont': 888, 'Bellerose': 316, 'New Dorp/Midland Beach': 562, 'Red Hook': 323, 'Highbridge': 1089, 'Crotona Park East': 705, 'Soundview/Bruckner': 1034, 'Fordham South': 562, 'Williamsburg (South Side)': 370, 'Van Nest/Morris Park': 3146, 'Boerum Hill': 825, 'Lenox Hill East': 1819, 'West Farms/Bronx River': 644, 'Brooklyn Navy Yard': 42, 'Queens Village': 387, 'Van Cortlandt Park': 155, 'Carroll Gardens': 218, 'Schuylerville/Edgewater Park': 728, 'Manhattanville': 685, 'Randalls Island': 146, 'Arrochar/Fort Wadsworth': 444, 'Hudson Sq': 648, 'Hollis': 341, 'Springfield Gardens South': 252, 'Country Club': 67, 'Glen Oaks': 637, 'Breezy Point/Fort Tilden/Riis Beach': 26, 'Battery Park': 21, 'Bloomingdale': 164, 'Seaport': 338, 'Columbia Street': 69, 'Crotona Park': 48, 'Forest Park/Highland Park': 53, 'Bronx Park': 167, 'Pelham Bay': 227, 'Jamaica Bay': 2, 'Astoria Park': 39, 'Freshkills Park': 56, 'Willets Point': 33, 'Inwood Hill Park': 30, 'Highbridge Park': 8, 'Marine Park/Floyd Bennett Field': 25, 'Saint Michaels Cemetery/Woodside': 34, 'Green-Wood Cemetery': 7, 'Broad Channel': 21} \n",
      "\n",
      "Top5: {'Saint George/New Brighton': 9316, 'Jackson Heights': 10710, nan: 9247, 'Astoria': 9121, 'Flushing': 8906}\n"
     ]
    },
    {
     "data": {
      "image/png": "[encoded data removed]",
      "text/plain": [
       "<Figure size 864x216 with 1 Axes>"
      ]
     },
     "metadata": {
      "needs_background": "light"
     },
     "output_type": "display_data"
    }
   ],
   "source": [
    "def graphZone(column):\n",
    "    ZoneDictionary = {}\n",
    "    for time in column:\n",
    "        if time not in ZoneDictionary:\n",
    "            ZoneDictionary[time] = 1\n",
    "        else:\n",
    "            ZoneDictionary[time] += 1\n",
    "    #'NV': 1385513 (Too Large)\n",
    "    print(ZoneDictionary,\"\\n\")\n",
    "    del ZoneDictionary['NV']\n",
    "    #del ZoneDictionary['nan']\n",
    "    ZoneDictionary = dict((key, value) for key, value in ZoneDictionary.items() if value > 8000)\n",
    "    print(\"Top5:\", ZoneDictionary)\n",
    "    names = list(ZoneDictionary.keys())\n",
    "    values = list(ZoneDictionary.values())\n",
    "    plt.figure(figsize=(12,3))\n",
    "    plt.bar(range(len(ZoneDictionary)), values, tick_label=names)\n",
    "    plt.title('Number of Rides vs City Zones:', fontsize=20)\n",
    "    plt.xlabel('Zones', fontsize=16)\n",
    "    plt.ylabel('Number of Rides', fontsize=16)\n",
    "    plt.rc('xtick',labelsize=10)\n",
    "    plt.xticks(rotation=0)\n",
    "    \n",
    "\n",
    "graphZone(fhv_data.Zone)\n",
    "\n"
   ]
  },
  {
   "cell_type": "code",
   "execution_count": null,
   "metadata": {},
   "outputs": [],
   "source": []
  },
  {
   "cell_type": "code",
   "execution_count": 10,
   "metadata": {},
   "outputs": [
    {
     "data": {
      "image/png": "[encoded data removed]",
      "text/plain": [
       "<Figure size 864x216 with 1 Axes>"
      ]
     },
     "metadata": {
      "needs_background": "light"
     },
     "output_type": "display_data"
    }
   ],
   "source": [
    "def graphZone(column):\n",
    "    ZoneDictionary = {}\n",
    "    for time in column:\n",
    "        if time not in ZoneDictionary:\n",
    "            ZoneDictionary[time] = 1\n",
    "        else:\n",
    "            ZoneDictionary[time] += 1\n",
    "    #'NV': 1385513 (Too Large)\n",
    "    del ZoneDictionary['NV']\n",
    "    #del ZoneDictionary['nan']\n",
    "    ZoneDictionary = dict((key, value) for key, value in ZoneDictionary.items() if value < 10)\n",
    "    #print(ZoneDictionary)\n",
    "    names = list(ZoneDictionary.keys())\n",
    "    values = list(ZoneDictionary.values())\n",
    "    plt.figure(figsize=(12,3))\n",
    "    plt.bar(range(len(ZoneDictionary)), values, tick_label=names)\n",
    "    plt.title('Number of Rides vs City Zones:', fontsize=20)\n",
    "    plt.xlabel('Zones', fontsize=16)\n",
    "    plt.ylabel('Number of Rides', fontsize=16)\n",
    "    plt.rc('xtick',labelsize=10)\n",
    "    plt.xticks(rotation=0)\n",
    "    \n",
    "\n",
    "graphZone(fhv_data.Zone)"
   ]
  },
  {
   "cell_type": "code",
   "execution_count": 11,
   "metadata": {},
   "outputs": [],
   "source": [
    "#Using Calendar to input days.\n",
    "import calendar\n",
    "fhv_weekday = []\n",
    "for i in fhv_data.pickup_datetime:\n",
    "    weekday = calendar.weekday(i.year, i.month, i.day)\n",
    "    if weekday == 0:\n",
    "        fhv_weekday.append(\"Monday\")\n",
    "    elif weekday == 1:\n",
    "        fhv_weekday.append(\"Tuesday\")\n",
    "    elif weekday == 2:\n",
    "        fhv_weekday.append(\"Wednesday\")\n",
    "    elif weekday == 3:\n",
    "        fhv_weekday.append(\"Thursday\")\n",
    "    elif weekday == 4:\n",
    "        fhv_weekday.append(\"Friday\")\n",
    "    elif weekday == 5:\n",
    "        fhv_weekday.append(\"Saturday\")\n",
    "    elif weekday == 6:\n",
    "        fhv_weekday.append(\"Sunday\")\n",
    "fhv_data['pickup_weekday'] = fhv_weekday"
   ]
  },
  {
   "cell_type": "code",
   "execution_count": 12,
   "metadata": {},
   "outputs": [
    {
     "name": "stdout",
     "output_type": "stream",
     "text": [
      "{'Sunday': 213480, 'Monday': 303794, 'Tuesday': 302389, 'Wednesday': 239799, 'Thursday': 254842, 'Friday': 251131, 'Saturday': 193964}\n"
     ]
    },
    {
     "data": {
      "image/png": "[encoded data removed]",
      "text/plain": [
       "<Figure size 432x288 with 1 Axes>"
      ]
     },
     "metadata": {
      "needs_background": "light"
     },
     "output_type": "display_data"
    }
   ],
   "source": [
    "def graphWeekday(column):\n",
    "    MinutesDictionary = {}\n",
    "    for time in column:\n",
    "        if time not in MinutesDictionary:\n",
    "            MinutesDictionary[time] = 1\n",
    "        else:\n",
    "            MinutesDictionary[time] += 1\n",
    "    print(MinutesDictionary)\n",
    "    plt.bar(*zip(*MinutesDictionary.items()))\n",
    "    plt.title('Number of Rides vs Weekday:', fontsize=20)\n",
    "    plt.xlabel('Weekday', fontsize=16)\n",
    "    plt.ylabel('Number of Rides', fontsize=16)\n",
    "    plt.rc('xtick',labelsize=8)\n",
    "    #plt.savefig('Initial Time Range and Number of Rides',dpi = 300, quality =100)\n",
    "    plt.show()\n",
    "\n",
    "graphWeekday(fhv_data.pickup_weekday)"
   ]
  },
  {
   "cell_type": "code",
   "execution_count": 13,
   "metadata": {},
   "outputs": [],
   "source": [
    "def graphRideByLocation(column):\n",
    "    MinutesDictionary = {}\n",
    "    for time in column:\n",
    "        if time not in MinutesDictionary and time != '264':\n",
    "            MinutesDictionary[time] = 1\n",
    "        else:\n",
    "            MinutesDictionary[time] += 1\n",
    "    #print(MinutesDictionary)\n",
    "    #MinutesDictionary.pop('264',None)\n",
    "    del MinutesDictionary[264]\n",
    "    print(MinutesDictionary)\n",
    "    plt.bar(*zip(*MinutesDictionary.items()))\n",
    "    plt.title('Number of Rides in Location:')\n",
    "    plt.xlabel('Location ID')\n",
    "    plt.ylabel('Number of Rides')\n",
    "    #plt.savefig('Initial Time Range and Number of Rides',dpi = 300, quality =100)\n",
    "    plt.show()\n",
    "\n"
   ]
  },
  {
   "cell_type": "code",
   "execution_count": 14,
   "metadata": {},
   "outputs": [
    {
     "name": "stdout",
     "output_type": "stream",
     "text": [
      "{56: 7141, 82: 6207, 93: 321, 173: 7058, 83: 1915, 230: 4464, 70: 3953, 126: 771, 138: 5484, 132: 6565, 259: 2604, 9: 695, 196: 1363, 260: 2553, 50: 814, 61: 2961, 206: 9316, 221: 3814, 245: 1644, 214: 965, 129: 10710, 204: 658, 44: 2338, 72: 1858, 163: 2492, 161: 4963, 39: 1991, 100: 1452, 265: 8962, 7: 9121, 35: 1577, 198: 5869, 21: 1507, 227: 3621, 216: 2290, 193: 2801, 146: 1623, 150: 755, 157: 1970, 226: 1910, 92: 8906, 192: 1473, 73: 1102, 171: 2140, 156: 2189, 187: 1811, 102: 2401, 36: 3162, 145: 1012, 1: 1918, 45: 958, 10: 1008, 218: 487, 26: 1480, 189: 262, 223: 5484, 179: 5750, 229: 2134, 263: 803, 153: 144, 184: 81, 16: 1539, 252: 2413, 88: 1770, 225: 1154, 115: 653, 22: 2093, 180: 270, 29: 2290, 37: 1760, 233: 1342, 144: 1051, 215: 939, 237: 2343, 49: 569, 57: 283, 188: 2072, 202: 443, 53: 939, 48: 2937, 79: 976, 113: 541, 13: 2500, 51: 1198, 46: 64, 162: 5266, 3: 723, 85: 524, 176: 413, 236: 1816, 89: 2015, 11: 877, 155: 893, 67: 698, 251: 1221, 63: 773, 166: 550, 71: 1241, 91: 1316, 5: 777, 95: 2288, 74: 1930, 84: 1223, 254: 1561, 232: 621, 159: 1870, 87: 1252, 246: 1026, 15: 2166, 69: 2671, 107: 1016, 234: 1855, 239: 1049, 52: 141, 17: 866, 238: 970, 255: 228, 181: 1096, 80: 438, 165: 1764, 186: 1443, 68: 1517, 141: 1315, 231: 1794, 143: 509, 43: 851, 190: 65, 32: 862, 211: 240, 247: 987, 241: 794, 213: 1831, 185: 1593, 117: 1149, 149: 1860, 182: 603, 81: 692, 86: 3261, 38: 190, 262: 412, 257: 275, 118: 847, 109: 799, 23: 1167, 170: 2538, 261: 1316, 75: 2331, 130: 1427, 139: 308, 222: 938, 203: 409, 62: 746, 205: 787, 210: 2301, 224: 111, 175: 453, 64: 246, 65: 619, 4: 228, 178: 331, 14: 1357, 164: 788, 160: 1117, 148: 660, 114: 591, 33: 867, 131: 615, 137: 1975, 76: 2431, 55: 1935, 133: 900, 258: 748, 47: 1417, 106: 275, 77: 930, 136: 855, 235: 1505, 116: 573, 249: 412, 158: 654, 142: 957, 135: 677, 121: 1694, 78: 2561, 127: 382, 42: 1437, 168: 1978, 151: 456, 90: 740, 134: 828, 167: 1283, 250: 704, 201: 323, 197: 1022, 112: 307, 124: 293, 220: 502, 177: 1065, 97: 1021, 200: 396, 243: 595, 228: 977, 123: 1833, 147: 827, 217: 152, 169: 3184, 28: 511, 244: 1603, 98: 357, 174: 1805, 108: 843, 18: 1295, 66: 122, 41: 949, 20: 888, 19: 316, 172: 562, 195: 323, 119: 1089, 60: 705, 212: 1034, 94: 562, 256: 370, 242: 3146, 25: 825, 140: 1819, 248: 644, 34: 42, 191: 387, 240: 155, 40: 218, 208: 728, 152: 685, 194: 146, 6: 444, 125: 648, 122: 341, 219: 252, 58: 67, 101: 637, 27: 26, 12: 21, 24: 164, 209: 338, 54: 69, 59: 48, 96: 53, 31: 167, 183: 227, 2: 2, 8: 39, 99: 56, 253: 33, 128: 30, 120: 8, 154: 25, 207: 34, 111: 7, 30: 21, 105: 2}\n"
     ]
    },
    {
     "data": {
      "image/png": "[encoded data removed]",
      "text/plain": [
       "<Figure size 432x288 with 1 Axes>"
      ]
     },
     "metadata": {
      "needs_background": "light"
     },
     "output_type": "display_data"
    }
   ],
   "source": [
    "graphRideByLocation(fhv_data.PULocationID)"
   ]
  },
  {
   "cell_type": "code",
   "execution_count": 15,
   "metadata": {},
   "outputs": [
    {
     "data": {
      "image/png": "[encoded data removed]",
      "text/plain": [
       "<Figure size 432x288 with 1 Axes>"
      ]
     },
     "metadata": {
      "needs_background": "light"
     },
     "output_type": "display_data"
    }
   ],
   "source": [
    "#Minutes Dictionary\n",
    "# '0-5','5-10','10-15','15-20','20-30','30-45','45+'\n",
    "ArrayZerotoFive=[]\n",
    "ArrayFivetoTen=[]\n",
    "ArrayTentoFifteen=[]\n",
    "ArrayFifteentoTwenty=[]\n",
    "ArrayTwentytoThirty=[]\n",
    "ArrayThirtytoFortyFive=[]\n",
    "ArrayFortyFivePlus=[]\n",
    "MinutesDictionary = {'0-5':0,'5-10':0,'10-15':0,'15-20':0,'20-30':0,'30-45':0,'45+':0}\n",
    "stepcount = 0 \n",
    "for time in fhv_data.time_of_ride_minutes:\n",
    "    def dict_call(time):\n",
    "        if time not in MinutesDictionary:\n",
    "            MinutesDictionary[time] = 1\n",
    "        else:\n",
    "            MinutesDictionary[time] += 1\n",
    "    time = round(time, 0)\n",
    "    stepcount += 1\n",
    "    if time <= 5:\n",
    "        ArrayZerotoFive.append(stepcount)\n",
    "        time = '0-5'\n",
    "        dict_call(time)\n",
    "    elif time <= 10:\n",
    "        time = '5-10'\n",
    "        dict_call(time)\n",
    "        ArrayFivetoTen.append(stepcount)\n",
    "    elif time <= 15:\n",
    "        time = '10-15'\n",
    "        dict_call(time)\n",
    "        ArrayTentoFifteen.append(stepcount)\n",
    "    elif time <= 20:\n",
    "        time = '15-20'\n",
    "        dict_call(time)\n",
    "        ArrayFifteentoTwenty.append(stepcount)\n",
    "    elif time <= 30:\n",
    "        time = '20-30'\n",
    "        dict_call(time)\n",
    "        ArrayTwentytoThirty.append(stepcount)\n",
    "    elif time <= 45:\n",
    "        time = '30-45'\n",
    "        dict_call(time)\n",
    "        ArrayThirtytoFortyFive.append(stepcount)\n",
    "    else:\n",
    "        time = '45+'\n",
    "        dict_call(time)\n",
    "        ArrayFortyFivePlus.append(stepcount)\n",
    "\n",
    "#print(ArrayZerotoFive)\n",
    "#print(MinutesDictionary)\n",
    "plt.bar(*zip(*MinutesDictionary.items()))\n",
    "plt.title('Number of Rides in Time Range')\n",
    "plt.xlabel('Time Range')\n",
    "plt.ylabel('Number of Rides')\n",
    "#plt.savefig('Initial Time Range and Number of Rides',dpi = 300, quality =100)\n",
    "plt.show()"
   ]
  },
  {
   "cell_type": "code",
   "execution_count": 17,
   "metadata": {},
   "outputs": [
    {
     "name": "stdout",
     "output_type": "stream",
     "text": [
      "{56: 510, 221: 1096, 245: 354, 204: 159, 173: 385, 260: 116, 21: 81, 227: 276, 216: 166, 82: 467, 150: 54, 83: 124, 92: 3266, 73: 331, 171: 552, 156: 304, 45: 252, 132: 440, 223: 558, 7: 649, 259: 672, 61: 459, 206: 2762, 265: 621, 145: 71, 102: 125, 144: 207, 179: 607, 184: 12, 16: 322, 49: 58, 129: 702, 202: 30, 192: 442, 53: 260, 79: 75, 46: 3, 89: 102, 251: 145, 161: 281, 198: 236, 230: 223, 72: 225, 93: 63, 187: 231, 236: 141, 247: 125, 241: 132, 69: 370, 188: 227, 57: 22, 91: 122, 86: 192, 118: 120, 109: 142, 84: 261, 146: 115, 233: 98, 23: 146, 130: 101, 15: 508, 239: 100, 149: 164, 113: 41, 254: 175, 14: 105, 95: 247, 36: 95, 215: 49, 258: 67, 210: 174, 252: 529, 116: 42, 22: 120, 44: 529, 50: 47, 205: 42, 162: 869, 229: 432, 117: 48, 177: 85, 62: 89, 5: 114, 196: 127, 11: 61, 176: 61, 175: 94, 147: 84, 76: 118, 169: 639, 28: 29, 249: 32, 238: 68, 70: 232, 222: 54, 163: 149, 67: 64, 121: 263, 74: 182, 231: 123, 4: 22, 193: 165, 155: 70, 71: 153, 138: 315, 237: 219, 172: 99, 39: 154, 115: 148, 151: 33, 77: 72, 174: 153, 167: 120, 168: 163, 181: 50, 48: 176, 189: 27, 107: 92, 234: 106, 29: 256, 235: 155, 133: 59, 18: 284, 213: 186, 81: 98, 160: 62, 98: 89, 135: 118, 164: 67, 225: 55, 200: 36, 228: 75, 141: 115, 262: 22, 55: 145, 157: 98, 75: 146, 35: 108, 26: 83, 33: 56, 37: 83, 148: 130, 244: 121, 140: 110, 52: 12, 90: 48, 165: 114, 88: 156, 64: 37, 226: 93, 125: 26, 85: 41, 9: 153, 211: 21, 1: 56, 263: 75, 152: 125, 182: 45, 47: 183, 94: 51, 185: 306, 58: 10, 201: 13, 159: 156, 131: 60, 123: 138, 218: 22, 126: 73, 112: 26, 142: 66, 100: 144, 170: 170, 197: 52, 143: 42, 80: 45, 78: 262, 68: 126, 191: 20, 32: 84, 209: 25, 248: 83, 232: 63, 20: 98, 3: 55, 97: 46, 6: 77, 214: 142, 114: 46, 108: 57, 137: 135, 65: 54, 60: 67, 41: 176, 119: 90, 256: 17, 66: 8, 242: 316, 195: 37, 42: 109, 212: 104, 51: 108, 250: 75, 134: 65, 203: 14, 246: 101, 257: 14, 19: 17, 10: 32, 166: 63, 127: 98, 136: 67, 186: 69, 180: 15, 220: 43, 13: 239, 25: 47, 87: 84, 101: 40, 217: 12, 253: 3, 224: 11, 17: 36, 63: 63, 153: 12, 243: 62, 261: 78, 43: 24, 158: 32, 139: 17, 96: 3, 38: 15, 208: 47, 183: 14, 122: 17, 178: 21, 99: 7, 219: 12, 255: 11, 24: 11, 190: 4, 31: 10, 30: 2, 54: 10, 124: 10, 8: 5, 40: 7, 106: 16, 207: 4, 154: 3, 240: 10, 12: 1, 194: 8, 34: 3, 120: 1}\n"
     ]
    },
    {
     "data": {
      "image/png": "[encoded data removed]",
      "text/plain": [
       "<Figure size 432x288 with 1 Axes>"
      ]
     },
     "metadata": {
      "needs_background": "light"
     },
     "output_type": "display_data"
    },
    {
     "name": "stdout",
     "output_type": "stream",
     "text": [
      "{61: 2540, 188: 1572, 71: 1104, 177: 1392, 37: 1894, 14: 3739, 228: 2766, 67: 946, 170: 375, 229: 216, 56: 1291, 212: 2591, 213: 3583, 78: 3046, 47: 2681, 20: 1836, 24: 168, 218: 174, 82: 2443, 18: 3252, 254: 1853, 42: 2611, 174: 2353, 235: 3216, 119: 2547, 31: 818, 265: 4272, 21: 1009, 115: 205, 206: 2079, 187: 268, 247: 3270, 258: 2951, 96: 396, 63: 3170, 76: 9830, 173: 1638, 39: 1826, 77: 2360, 210: 668, 35: 2963, 91: 876, 249: 90, 215: 947, 10: 497, 196: 563, 197: 3788, 130: 3891, 216: 2577, 95: 1074, 160: 305, 17: 2104, 244: 4397, 243: 3328, 241: 1994, 225: 1091, 251: 380, 180: 1079, 126: 2886, 242: 3042, 136: 1881, 248: 2363, 116: 1300, 127: 2088, 240: 334, 169: 4407, 69: 4281, 120: 339, 147: 1451, 250: 2034, 32: 1144, 259: 1161, 74: 2162, 256: 779, 217: 2547, 66: 121, 26: 2163, 133: 371, 203: 68, 220: 784, 94: 1536, 41: 1113, 168: 3167, 208: 1296, 60: 1811, 40: 127, 191: 320, 227: 1598, 121: 642, 36: 1441, 139: 57, 22: 1650, 28: 1223, 122: 206, 205: 323, 131: 361, 55: 622, 129: 2321, 226: 650, 260: 704, 154: 63, 73: 435, 92: 3570, 252: 476, 171: 653, 165: 835, 49: 566, 181: 963, 85: 645, 89: 1194, 80: 530, 167: 2384, 198: 1136, 152: 714, 123: 825, 239: 220, 75: 1262, 102: 641, 201: 34, 149: 596, 53: 420, 157: 351, 7: 903, 141: 254, 81: 812, 182: 1246, 159: 2889, 189: 269, 124: 656, 93: 452, 64: 77, 51: 1308, 166: 603, 155: 623, 11: 448, 108: 403, 132: 3013, 134: 1009, 57: 122, 50: 148, 192: 680, 255: 149, 29: 462, 45: 377, 179: 641, 184: 137, 16: 396, 59: 138, 232: 369, 72: 1547, 135: 349, 3: 771, 183: 311, 138: 1193, 175: 151, 233: 253, 98: 169, 221: 254, 209: 98, 257: 211, 156: 302, 83: 481, 97: 545, 118: 408, 222: 675, 62: 523, 150: 246, 1: 496, 245: 1464, 153: 278, 140: 411, 25: 349, 185: 1747, 178: 339, 148: 264, 230: 247, 70: 683, 33: 236, 214: 189, 58: 96, 262: 95, 117: 266, 219: 189, 84: 234, 161: 354, 23: 196, 30: 5, 145: 235, 144: 217, 200: 235, 4: 184, 223: 672, 13: 74, 107: 268, 34: 128, 65: 314, 44: 437, 193: 216, 111: 30, 163: 188, 79: 244, 146: 181, 43: 118, 46: 35, 238: 269, 128: 127, 186: 152, 176: 89, 68: 209, 48: 257, 162: 387, 263: 187, 164: 151, 114: 74, 109: 168, 142: 215, 234: 171, 237: 366, 231: 227, 106: 231, 195: 179, 87: 123, 113: 111, 137: 359, 253: 56, 86: 133, 151: 303, 224: 58, 190: 67, 88: 75, 246: 121, 100: 147, 101: 98, 8: 17, 125: 52, 15: 424, 211: 49, 9: 252, 2: 4, 38: 58, 236: 265, 194: 51, 112: 155, 6: 71, 143: 113, 202: 26, 90: 110, 52: 76, 19: 93, 54: 43, 158: 35, 204: 97, 172: 151, 99: 11, 5: 103, 261: 83, 207: 23, 12: 2, 105: 1, 27: 3, 110: 3}\n"
     ]
    },
    {
     "data": {
      "image/png": "[encoded data removed]",
      "text/plain": [
       "<Figure size 432x288 with 1 Axes>"
      ]
     },
     "metadata": {
      "needs_background": "light"
     },
     "output_type": "display_data"
    },
    {
     "name": "stdout",
     "output_type": "stream",
     "text": [
      "{95: 1362, 91: 961, 188: 1470, 216: 2182, 250: 1798, 167: 2452, 265: 4668, 208: 1286, 248: 2233, 174: 2796, 81: 938, 57: 173, 173: 2641, 243: 3035, 213: 3406, 3: 940, 129: 3855, 141: 275, 169: 4363, 147: 1460, 47: 2747, 168: 3460, 74: 2421, 152: 670, 60: 1622, 242: 3405, 244: 4301, 61: 2469, 206: 1143, 115: 149, 119: 2773, 63: 2047, 225: 1213, 76: 5134, 37: 2149, 85: 481, 39: 1618, 36: 1873, 77: 1587, 35: 2392, 258: 2195, 134: 1000, 180: 623, 198: 1840, 197: 3137, 10: 503, 232: 531, 116: 1281, 59: 146, 127: 2174, 153: 306, 69: 4344, 247: 3397, 31: 700, 212: 2373, 42: 2326, 75: 1583, 114: 87, 56: 1884, 73: 449, 7: 1795, 82: 3427, 130: 3041, 71: 904, 235: 3591, 159: 3088, 18: 3423, 78: 3318, 20: 2070, 48: 300, 217: 1249, 32: 1319, 254: 2077, 26: 2168, 182: 1147, 126: 2502, 41: 1157, 177: 1219, 13: 119, 17: 1652, 215: 841, 21: 1079, 15: 358, 14: 1974, 93: 575, 70: 1093, 28: 1005, 131: 415, 83: 728, 172: 138, 92: 2872, 136: 2124, 241: 1976, 192: 661, 29: 699, 187: 412, 80: 582, 260: 1177, 157: 600, 200: 272, 22: 1912, 89: 1347, 165: 1099, 145: 330, 164: 203, 16: 474, 120: 277, 94: 1719, 62: 538, 203: 106, 124: 391, 220: 950, 51: 1388, 53: 436, 196: 728, 132: 3227, 239: 175, 11: 537, 193: 424, 227: 1635, 112: 230, 228: 1793, 171: 724, 144: 302, 226: 1035, 146: 359, 121: 686, 72: 1403, 259: 1023, 55: 774, 155: 736, 123: 1052, 210: 950, 149: 761, 202: 67, 50: 228, 185: 1753, 221: 295, 189: 247, 5: 76, 205: 372, 166: 583, 40: 93, 108: 491, 102: 814, 218: 191, 160: 466, 96: 281, 67: 935, 138: 1420, 19: 144, 179: 948, 143: 107, 223: 1045, 156: 473, 170: 514, 175: 148, 54: 31, 183: 367, 195: 189, 1: 579, 64: 93, 9: 271, 4: 266, 98: 184, 65: 336, 178: 461, 245: 721, 45: 401, 186: 177, 240: 404, 263: 192, 142: 234, 25: 390, 117: 631, 46: 66, 49: 530, 84: 140, 150: 262, 122: 194, 151: 290, 133: 465, 58: 76, 222: 541, 257: 185, 252: 432, 97: 573, 191: 301, 137: 639, 135: 362, 140: 622, 33: 288, 101: 220, 181: 941, 34: 72, 207: 34, 236: 331, 219: 170, 79: 336, 234: 216, 211: 66, 261: 116, 246: 135, 86: 287, 237: 336, 158: 48, 230: 317, 176: 85, 44: 254, 163: 217, 262: 116, 251: 365, 229: 215, 113: 158, 128: 134, 256: 504, 148: 314, 249: 89, 24: 152, 214: 191, 106: 208, 43: 123, 161: 370, 68: 241, 109: 144, 107: 396, 23: 296, 255: 156, 100: 139, 233: 219, 139: 114, 162: 293, 6: 109, 30: 3, 201: 57, 238: 269, 118: 319, 209: 100, 66: 130, 190: 56, 194: 49, 184: 126, 125: 65, 231: 258, 87: 129, 253: 74, 224: 66, 90: 135, 88: 88, 111: 30, 38: 53, 154: 54, 52: 61, 99: 13, 204: 74, 27: 5, 8: 11, 2: 1, 12: 5}\n"
     ]
    },
    {
     "data": {
      "image/png": "[encoded data removed]",
      "text/plain": [
       "<Figure size 432x288 with 1 Axes>"
      ]
     },
     "metadata": {
      "needs_background": "light"
     },
     "output_type": "display_data"
    }
   ],
   "source": [
    "ArrayColumn0to5 = fhv_data.loc[ArrayZerotoFive]\n",
    "#print(ArrayFivetoTen)\n",
    "#ArrayColumn5to10 = fhv_data.loc[ArrayFivetoTen]\n",
    "ArrayColumn10to15 = fhv_data.loc[ArrayTentoFifteen]\n",
    "graphRideByLocation(ArrayColumn0to5.PULocationID)\n",
    "graphRideByLocation(ArrayColumn0to5.DOLocationID)\n",
    "#graphRideByLocation(ArrayColumn5to10.PULocationID)\n",
    "graphRideByLocation(ArrayColumn10to15.DOLocationID)"
   ]
  },
  {
   "cell_type": "code",
   "execution_count": 23,
   "metadata": {},
   "outputs": [
    {
     "data": {
      "text/html": [
       "<div>\n",
       "<style scoped>\n",
       "    .dataframe tbody tr th:only-of-type {\n",
       "        vertical-align: middle;\n",
       "    }\n",
       "\n",
       "    .dataframe tbody tr th {\n",
       "        vertical-align: top;\n",
       "    }\n",
       "\n",
       "    .dataframe thead th {\n",
       "        text-align: right;\n",
       "    }\n",
       "</style>\n",
       "<table border=\"1\" class=\"dataframe\">\n",
       "  <thead>\n",
       "    <tr style=\"text-align: right;\">\n",
       "      <th></th>\n",
       "      <th>dispatching_base_num</th>\n",
       "      <th>pickup_datetime</th>\n",
       "      <th>dropoff_datetime</th>\n",
       "      <th>PULocationID</th>\n",
       "      <th>DOLocationID</th>\n",
       "      <th>Zone</th>\n",
       "      <th>time_of_ride</th>\n",
       "      <th>pickup_day</th>\n",
       "      <th>pickup_hour</th>\n",
       "      <th>dropoff_day</th>\n",
       "      <th>dropoff_hour</th>\n",
       "      <th>time_of_ride_minutes</th>\n",
       "      <th>pickup_weekday</th>\n",
       "    </tr>\n",
       "  </thead>\n",
       "  <tbody>\n",
       "    <tr>\n",
       "      <th>0</th>\n",
       "      <td>B00009</td>\n",
       "      <td>2019-12-01 00:47:00</td>\n",
       "      <td>2019-12-01 00:52:00</td>\n",
       "      <td>264</td>\n",
       "      <td>264</td>\n",
       "      <td>NV</td>\n",
       "      <td>00:05:00</td>\n",
       "      <td>1</td>\n",
       "      <td>0</td>\n",
       "      <td>1</td>\n",
       "      <td>0</td>\n",
       "      <td>5.000000</td>\n",
       "      <td>Sunday</td>\n",
       "    </tr>\n",
       "    <tr>\n",
       "      <th>1</th>\n",
       "      <td>B00009</td>\n",
       "      <td>2019-12-01 00:27:00</td>\n",
       "      <td>2019-12-01 00:44:00</td>\n",
       "      <td>264</td>\n",
       "      <td>264</td>\n",
       "      <td>NV</td>\n",
       "      <td>00:17:00</td>\n",
       "      <td>1</td>\n",
       "      <td>0</td>\n",
       "      <td>1</td>\n",
       "      <td>0</td>\n",
       "      <td>17.000000</td>\n",
       "      <td>Sunday</td>\n",
       "    </tr>\n",
       "    <tr>\n",
       "      <th>2</th>\n",
       "      <td>B00014</td>\n",
       "      <td>2019-12-01 00:42:18</td>\n",
       "      <td>2019-12-01 01:31:31</td>\n",
       "      <td>264</td>\n",
       "      <td>264</td>\n",
       "      <td>NV</td>\n",
       "      <td>00:49:13</td>\n",
       "      <td>1</td>\n",
       "      <td>0</td>\n",
       "      <td>1</td>\n",
       "      <td>1</td>\n",
       "      <td>49.216667</td>\n",
       "      <td>Sunday</td>\n",
       "    </tr>\n",
       "    <tr>\n",
       "      <th>3</th>\n",
       "      <td>B00014</td>\n",
       "      <td>2019-12-01 00:43:08</td>\n",
       "      <td>2019-12-01 01:07:38</td>\n",
       "      <td>264</td>\n",
       "      <td>264</td>\n",
       "      <td>NV</td>\n",
       "      <td>00:24:30</td>\n",
       "      <td>1</td>\n",
       "      <td>0</td>\n",
       "      <td>1</td>\n",
       "      <td>1</td>\n",
       "      <td>24.500000</td>\n",
       "      <td>Sunday</td>\n",
       "    </tr>\n",
       "    <tr>\n",
       "      <th>4</th>\n",
       "      <td>B00021</td>\n",
       "      <td>2019-12-01 00:52:19</td>\n",
       "      <td>2019-12-01 00:59:39</td>\n",
       "      <td>56</td>\n",
       "      <td>56</td>\n",
       "      <td>Corona</td>\n",
       "      <td>00:07:20</td>\n",
       "      <td>1</td>\n",
       "      <td>0</td>\n",
       "      <td>1</td>\n",
       "      <td>0</td>\n",
       "      <td>7.333333</td>\n",
       "      <td>Sunday</td>\n",
       "    </tr>\n",
       "  </tbody>\n",
       "</table>\n",
       "</div>"
      ],
      "text/plain": [
       "  dispatching_base_num     pickup_datetime    dropoff_datetime  PULocationID  \\\n",
       "0               B00009 2019-12-01 00:47:00 2019-12-01 00:52:00           264   \n",
       "1               B00009 2019-12-01 00:27:00 2019-12-01 00:44:00           264   \n",
       "2               B00014 2019-12-01 00:42:18 2019-12-01 01:31:31           264   \n",
       "3               B00014 2019-12-01 00:43:08 2019-12-01 01:07:38           264   \n",
       "4               B00021 2019-12-01 00:52:19 2019-12-01 00:59:39            56   \n",
       "\n",
       "   DOLocationID    Zone time_of_ride  pickup_day  pickup_hour  dropoff_day  \\\n",
       "0           264      NV     00:05:00           1            0            1   \n",
       "1           264      NV     00:17:00           1            0            1   \n",
       "2           264      NV     00:49:13           1            0            1   \n",
       "3           264      NV     00:24:30           1            0            1   \n",
       "4            56  Corona     00:07:20           1            0            1   \n",
       "\n",
       "   dropoff_hour  time_of_ride_minutes pickup_weekday  \n",
       "0             0              5.000000         Sunday  \n",
       "1             0             17.000000         Sunday  \n",
       "2             1             49.216667         Sunday  \n",
       "3             1             24.500000         Sunday  \n",
       "4             0              7.333333         Sunday  "
      ]
     },
     "execution_count": 23,
     "metadata": {},
     "output_type": "execute_result"
    }
   ],
   "source": [
    "fhv_data.head(5)"
   ]
  },
  {
   "cell_type": "code",
   "execution_count": 28,
   "metadata": {},
   "outputs": [
    {
     "name": "stdout",
     "output_type": "stream",
     "text": [
      "{'Sunday': 178666, 'Monday': 235362, 'Tuesday': 236610, 'Wednesday': 186184, 'Thursday': 195886, 'Friday': 193863, 'Saturday': 158942}\n"
     ]
    },
    {
     "data": {
      "image/png": "[encoded data removed]",
      "text/plain": [
       "<Figure size 432x288 with 1 Axes>"
      ]
     },
     "metadata": {
      "needs_background": "light"
     },
     "output_type": "display_data"
    },
    {
     "name": "stdout",
     "output_type": "stream",
     "text": [
      "{}\n"
     ]
    },
    {
     "data": {
      "image/png": "[encoded data removed]",
      "text/plain": [
       "<Figure size 432x288 with 1 Axes>"
      ]
     },
     "metadata": {
      "needs_background": "light"
     },
     "output_type": "display_data"
    },
    {
     "name": "stdout",
     "output_type": "stream",
     "text": [
      "{7: 78262, 8: 93132, 9: 96515, 10: 92432, 11: 84765, 12: 84411, 13: 82938, 14: 79980, 15: 74070, 16: 66889, 17: 62180}\n"
     ]
    },
    {
     "data": {
      "image/png": "[encoded data removed]",
      "text/plain": [
       "<Figure size 432x288 with 1 Axes>"
      ]
     },
     "metadata": {
      "needs_background": "light"
     },
     "output_type": "display_data"
    },
    {
     "name": "stdout",
     "output_type": "stream",
     "text": [
      "{}\n"
     ]
    },
    {
     "data": {
      "image/png": "[encoded data removed]",
      "text/plain": [
       "<Figure size 432x288 with 1 Axes>"
      ]
     },
     "metadata": {
      "needs_background": "light"
     },
     "output_type": "display_data"
    },
    {
     "name": "stdout",
     "output_type": "stream",
     "text": [
      "{7: 67498, 8: 88350, 18: 62285, 10: 93739, 12: 83748, 15: 75461, 16: 68770, 9: 97434, 11: 85115, 13: 81464, 14: 79001, 17: 64745}\n"
     ]
    },
    {
     "data": {
      "image/png": "[encoded data removed]",
      "text/plain": [
       "<Figure size 432x288 with 1 Axes>"
      ]
     },
     "metadata": {
      "needs_background": "light"
     },
     "output_type": "display_data"
    }
   ],
   "source": [
    "#Top5: {'Saint George/New Brighton': 9316, 'Jackson Heights': 10710, nan: 9247, 'Astoria': 9121, 'Flushing': 8906}\n",
    "#'NV': 1385513,\n",
    "fhv_data_NV = fhv_data[fhv_data.Zone == 'NV']\n",
    "graphWeekday(fhv_data_NV.pickup_weekday)\n",
    "countperday(fhv_data_NV.pickup_day, 'pickup_calls_per_day')\n",
    "countperday(fhv_data_NV.pickup_hour,'pickup_calls_per_hour')\n",
    "countperday(fhv_data_NV.dropoff_day, 'dropoff_calls_per_day')\n",
    "countperday(fhv_data_NV.dropoff_hour, 'dropoff_calls_per_hour')"
   ]
  },
  {
   "cell_type": "code",
   "execution_count": null,
   "metadata": {},
   "outputs": [],
   "source": []
  },
  {
   "cell_type": "code",
   "execution_count": 19,
   "metadata": {},
   "outputs": [
    {
     "data": {
      "text/plain": [
       "count                    1759399\n",
       "mean      0 days 01:25:26.736175\n",
       "std      28 days 01:28:04.182326\n",
       "min              0 days 00:00:01\n",
       "25%              0 days 00:08:00\n",
       "50%              0 days 00:15:31\n",
       "75%              0 days 00:30:04\n",
       "max          26298 days 00:30:00\n",
       "Name: time_of_ride, dtype: object"
      ]
     },
     "execution_count": 19,
     "metadata": {},
     "output_type": "execute_result"
    }
   ],
   "source": [
    "fhv_data.time_of_ride.describe()"
   ]
  },
  {
   "cell_type": "code",
   "execution_count": 20,
   "metadata": {},
   "outputs": [],
   "source": [
    "countOfDayCalls = fhv_data.nunique()"
   ]
  },
  {
   "cell_type": "code",
   "execution_count": 21,
   "metadata": {},
   "outputs": [
    {
     "name": "stdout",
     "output_type": "stream",
     "text": [
      "{2: 61618, 3: 65556, 4: 67661, 5: 67873, 6: 65747, 9: 66010, 10: 65185, 11: 66628, 12: 67804, 13: 66632, 16: 64328, 17: 66184, 18: 66893, 19: 69606, 20: 65871}\n"
     ]
    },
    {
     "data": {
      "image/png": "[encoded data removed]",
      "text/plain": [
       "<Figure size 432x288 with 1 Axes>"
      ]
     },
     "metadata": {
      "needs_background": "light"
     },
     "output_type": "display_data"
    },
    {
     "name": "stdout",
     "output_type": "stream",
     "text": [
      "{6: 65173, 7: 99084, 8: 119745, 9: 126021, 10: 120917, 11: 111217, 12: 110906, 13: 108814, 14: 103340, 15: 94519, 16: 84737, 17: 78267, 18: 69639, 19: 62787, 20: 63582}\n"
     ]
    },
    {
     "data": {
      "image/png": "[encoded data removed]",
      "text/plain": [
       "<Figure size 432x288 with 1 Axes>"
      ]
     },
     "metadata": {
      "needs_background": "light"
     },
     "output_type": "display_data"
    },
    {
     "name": "stdout",
     "output_type": "stream",
     "text": [
      "{2: 61442, 18: 66804, 5: 67658, 13: 66681, 9: 65741, 11: 66433, 4: 67500, 10: 65116, 3: 65362, 19: 69448, 20: 66137, 6: 65731, 17: 66133, 16: 64200, 12: 67603}\n"
     ]
    },
    {
     "data": {
      "image/png": "[encoded data removed]",
      "text/plain": [
       "<Figure size 432x288 with 1 Axes>"
      ]
     },
     "metadata": {
      "needs_background": "light"
     },
     "output_type": "display_data"
    },
    {
     "name": "stdout",
     "output_type": "stream",
     "text": [
      "{7: 83878, 8: 113591, 18: 77740, 10: 122704, 12: 110416, 15: 96390, 16: 87461, 9: 126908, 11: 111384, 13: 107405, 19: 68741, 14: 102538, 17: 81479, 20: 63633, 21: 62058}\n"
     ]
    },
    {
     "data": {
      "image/png": "[encoded data removed]",
      "text/plain": [
       "<Figure size 432x288 with 1 Axes>"
      ]
     },
     "metadata": {
      "needs_background": "light"
     },
     "output_type": "display_data"
    }
   ],
   "source": [
    "def countperday(data, name):\n",
    "    title = name\n",
    "    name = {}\n",
    "    for item in data:\n",
    "        if item not in name:\n",
    "            name[item] = 1\n",
    "        else:\n",
    "            name[item] += 1\n",
    "    #print(name)\n",
    "    high_name = {}\n",
    "    for key in name:\n",
    "        if name[key] > 60000:\n",
    "            high_name[key] = name[key]\n",
    "    print(high_name)\n",
    "    plt.bar(*zip(*name.items()))\n",
    "    plt.title(title)\n",
    "    plt.xlabel('Time Unit')\n",
    "    plt.ylabel('Counts')\n",
    "    plt.show()\n",
    "    \n",
    "countperday(fhv_data.pickup_day, 'pickup_calls_per_day')\n",
    "countperday(fhv_data.pickup_hour,'pickup_calls_per_hour')\n",
    "countperday(fhv_data.dropoff_day, 'dropoff_calls_per_day')\n",
    "countperday(fhv_data.dropoff_hour, 'dropoff_calls_per_hour')\n"
   ]
  },
  {
   "cell_type": "code",
   "execution_count": 22,
   "metadata": {},
   "outputs": [
    {
     "name": "stdout",
     "output_type": "stream",
     "text": [
      "{0: 36871, 1: 25445, 2: 19996, 3: 20161, 4: 32049, 5: 44723, 6: 65173, 7: 99084, 8: 119745, 9: 126021, 10: 120917, 11: 111217, 12: 110906, 13: 108814, 14: 103340, 15: 94519, 16: 84737, 17: 78267, 18: 69639, 19: 62787, 20: 63582, 21: 59429, 22: 54870, 23: 47107}\n",
      "Filtered Dictionary : \n",
      "{}\n"
     ]
    },
    {
     "data": {
      "image/png": "[encoded data removed]",
      "text/plain": [
       "<Figure size 432x288 with 1 Axes>"
      ]
     },
     "metadata": {
      "needs_background": "light"
     },
     "output_type": "display_data"
    }
   ],
   "source": [
    "def specialcountperday(data, name):\n",
    "    title = name\n",
    "    name = {}\n",
    "    for item in data:\n",
    "        if item not in name:\n",
    "            name[item] = 1\n",
    "        else:\n",
    "            name[item] += 1\n",
    "    print(name)\n",
    "    newDict = dict(filter(lambda elem: elem[0] >= 60000, name.items()))\n",
    "    print('Filtered Dictionary : ')\n",
    "    print(newDict)\n",
    "    plt.bar(*zip(*name.items()))\n",
    "    plt.title(title)\n",
    "    plt.xlabel('Time Unit')\n",
    "    plt.ylabel('Counts')\n",
    "    plt.show()\n",
    "\n",
    "specialcountperday(fhv_data.pickup_hour,'calls_per_hour')"
   ]
  },
  {
   "cell_type": "code",
   "execution_count": null,
   "metadata": {},
   "outputs": [],
   "source": [
    "print('Look for dtypes: \\n')\n",
    "print(fhv_data.dtypes)\n",
    "\n",
    "print('\\nLook for total NaN\\'s: \\n')\n",
    "print(fhv_data.isnull().sum(axis=0))"
   ]
  },
  {
   "cell_type": "code",
   "execution_count": null,
   "metadata": {},
   "outputs": [],
   "source": [
    "fhv_data_columns = fhv_data.columns\n",
    "print('Columns:', fhv_data_columns)\n",
    "\n",
    "#Countplot for all columns:\n",
    "fhv_data_columns_countplot = fhv_data_columns.drop(['pickup_datetime','dropoff_datetime'])\n",
    "\n",
    "for column in fhv_data_columns_countplot:\n",
    "    print('Value Counts:', fhv_data[column].value_counts())\n",
    "    sns.countplot(fhv_data[column])\n",
    "    plt.show()"
   ]
  }
 ],
 "metadata": {
  "kernelspec": {
   "display_name": "Python 3",
   "language": "python",
   "name": "python3"
  },
  "language_info": {
   "codemirror_mode": {
    "name": "ipython",
    "version": 3
   },
   "file_extension": ".py",
   "mimetype": "text/x-python",
   "name": "python",
   "nbconvert_exporter": "python",
   "pygments_lexer": "ipython3",
   "version": "3.7.4"
  }
 },
 "nbformat": 4,
 "nbformat_minor": 4
}
